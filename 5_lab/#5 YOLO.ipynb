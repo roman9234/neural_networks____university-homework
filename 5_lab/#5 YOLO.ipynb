{
 "cells": [
  {
   "cell_type": "markdown",
   "id": "cbb93457",
   "metadata": {},
   "source": [
    "## Методические указания по выполнению лабораторной работы №5\n",
    "\n",
    "**Тема: Обучение модели YOLO на кастомном датасете и исследование влияния гиперпараметров на качество детекции**\n",
    "\n",
    "**Цель работы:** Познакомиться с архитектурой YOLO на примере проверки гипотезы о релевантной метрике.\n",
    "\n",
    "**Задачи:**\n",
    "\n",
    "- Ознакомиться с архитектурой YOLO.\n",
    "- Изучить метрики для анализа производительности модели, выбрать целевую метрику в соответствии с вариантом.\n",
    "- Выбрать предметную область, сформировать гипотезу для проведения исследования.\n",
    "- Собрать и проаннотировать данные, сформировать датасет.\n",
    "- Провести fine-tuning предобученной модели YOLOv11 Nano/Small.\n",
    "- Визуализировать и проанализировать результаты.\n",
    "- На основе анализа сделать корректировку гиперпараметров/данных и провести вторую итерацию для повышения показателей."
   ]
  },
  {
   "cell_type": "markdown",
   "id": "9931204b",
   "metadata": {},
   "source": [
    "### 1. Подготовка к обучению\n",
    "\n",
    "#### 1.1 Метрики\n",
    "\n",
    "Вариант 1 - Precision\n",
    "\n",
    "#### 1.2 Гипотеза\n",
    "\n",
    "Гипотеза должна отражать характер уклона исследования с обоснованием, отталкиваясь от предметной области. *Одна лишь констатация необходимости достижения высокого значения целевой метрики не является обоснованием*.\n",
    "\n",
    "#### 1.3 Данные\n",
    "\n",
    "Соберите не менее 500 изображений из открытых источников. Можно пользоваться готовыми наборами данных, но важно проверить качество: разрешение изображений, качество аннотаций, баланс классов. При самостоятельном сборе данных можете воспользоваться терминальной утилитой ffmpeg для нарезки видео на кадры и любым удобным инструментом аннотирования (Roboflow, CVAT и тд). \n",
    "\n",
    "#### 1.4 Предобработка\n",
    "\n",
    "Примените методы аугментации к данным для расширения объема датасета для получения 1.5-2к изображений. Подготовьте данные к требуемому формату для обучающего процесса."
   ]
  },
  {
   "cell_type": "markdown",
   "id": "1f91f75c",
   "metadata": {},
   "source": [
    "### 2. Обучение модели\n",
    "\n",
    "#### 2.1 Подготовка окружения\n",
    "\n",
    "Установите зависимости и библиотеки:"
   ]
  },
  {
   "cell_type": "code",
   "id": "6441a4bf",
   "metadata": {
    "ExecuteTime": {
     "end_time": "2025-05-20T10:37:48.653526Z",
     "start_time": "2025-05-20T10:37:44.768959Z"
    }
   },
   "source": [
    "import matplotlib.pyplot as plt\n",
    "import pandas as pd\n",
    "import os\n",
    "from ultralytics import YOLO\n",
    "import torch\n",
    "from contextlib import redirect_stdout"
   ],
   "outputs": [],
   "execution_count": 1
  },
  {
   "cell_type": "markdown",
   "id": "e9b8ad59",
   "metadata": {},
   "source": [
    "#### 2.2 Подготовка модели\n",
    "\n",
    "Загрузите предобученную модель, определите устройство, переведите модель в режим инференса. Не используйте размер модели больше чем Small для достижения лучших показателей на стандартных гиперпараметрах (особенно imgsz)"
   ]
  },
  {
   "cell_type": "code",
   "id": "ad5ffb38",
   "metadata": {
    "ExecuteTime": {
     "end_time": "2025-05-20T10:37:49.407505Z",
     "start_time": "2025-05-20T10:37:48.679537Z"
    }
   },
   "source": [
    "# импорт модели\n",
    "device = 'cuda' if torch.cuda.is_available() else 'cpu'\n",
    "print(f\"Using device: {device}\")\n",
    "\n",
    "model = YOLO(\"yolo11_I.pt\", verbose=False).to(device)"
   ],
   "outputs": [
    {
     "name": "stdout",
     "output_type": "stream",
     "text": [
      "Using device: cuda\n"
     ]
    }
   ],
   "execution_count": 2
  },
  {
   "metadata": {
    "ExecuteTime": {
     "end_time": "2025-05-20T10:37:49.677955Z",
     "start_time": "2025-05-20T10:37:49.673427Z"
    }
   },
   "cell_type": "code",
   "source": [
    "import torch\n",
    "print(torch.__version__)\n",
    "print(torch.version.cuda)  # Проверка версии CUDA\n",
    "print(torch.cuda.is_available())  # Проверка доступности GPU"
   ],
   "id": "d4c9aa925bf39d9",
   "outputs": [
    {
     "name": "stdout",
     "output_type": "stream",
     "text": [
      "2.6.0+cu126\n",
      "12.6\n",
      "True\n"
     ]
    }
   ],
   "execution_count": 3
  },
  {
   "cell_type": "markdown",
   "id": "5f2bcad1",
   "metadata": {},
   "source": [
    "#### 2.3 Загрузка и предобработка изображений\n",
    "\n",
    "\n",
    "Затем импортируйте датасет в проект и выполните трансформацию данных (при использовании Roboflow трансформация выполняется на этапе предобработки):"
   ]
  },
  {
   "cell_type": "code",
   "id": "f1ae375c",
   "metadata": {
    "ExecuteTime": {
     "end_time": "2025-05-20T10:37:49.759684Z",
     "start_time": "2025-05-20T10:37:49.755837Z"
    }
   },
   "source": [
    "# загрузка датасета\n",
    "data_path = \"C:/programming_HUB/MTUCI_projects/6_sem/neural_networks____university-homework/5_lab/dataset/dataset.yaml\"\n",
    "global_epochs = 10\n"
   ],
   "outputs": [],
   "execution_count": 4
  },
  {
   "cell_type": "markdown",
   "id": "0b60f68a",
   "metadata": {},
   "source": [
    "#### 2.4 Обучение, оценка модели и визуализация результатов\n",
    "\n",
    "Проведите обучение модели, проанализируйте кривые обучения, метрики и тестовые данные. Сделайте вывод и корректироваки для достижения лучших показателей"
   ]
  },
  {
   "cell_type": "code",
   "id": "9de59854",
   "metadata": {
    "ExecuteTime": {
     "end_time": "2025-05-20T10:41:53.465554Z",
     "start_time": "2025-05-20T10:37:49.786265Z"
    }
   },
   "source": [
    "# обучение, оценка, визуализация\n",
    "%matplotlib inline\n",
    "\n",
    "params = {\n",
    "    'data': data_path,\n",
    "    'epochs': global_epochs,\n",
    "    'imgsz': 640,\n",
    "    'batch': 16,\n",
    "    'device': device,\n",
    "    'workers': 4,\n",
    "    'optimizer': 'AdamW',\n",
    "    'seed': 42\n",
    "}\n",
    "# Обучение модели\n",
    "\n",
    "results = model.train(**params)\n",
    "\n",
    "# Оценка модели на тестовых данных\n",
    "metrics = model.val()\n",
    "model.save('yolo11_I.pt')\n",
    "\n",
    "# Визуализация результатов обучения\n",
    "\n",
    "# Получаем историю обучения из CSV файла\n",
    "# Путь к файлу с результатами\n",
    "results_csv_path = os.path.join(model.trainer.save_dir, 'results.csv')\n",
    "\n",
    "# Загружаем данные\n",
    "try:\n",
    "    results_df = pd.read_csv(results_csv_path)\n",
    "\n",
    "    # Графики метрик\n",
    "    plt.figure(figsize=(12, 4))\n",
    "    plt.subplot(1, 2, 1)\n",
    "    plt.plot(results_df['metrics/precision(B)'], label='Precision')\n",
    "    plt.plot(results_df['metrics/recall(B)'], label='Recall')\n",
    "    plt.plot(results_df['metrics/mAP50(B)'], label='mAP@0.5')\n",
    "    plt.title('Метрики во время обучения')\n",
    "    plt.xlabel('Эпоха')\n",
    "    plt.ylabel('Значение')\n",
    "    plt.legend()\n",
    "\n",
    "    # Графики потерь\n",
    "    plt.subplot(1, 2, 2)\n",
    "    plt.plot(results_df['train/box_loss'], label='Train Box Loss')\n",
    "    plt.plot(results_df['val/box_loss'], label='Val Box Loss')\n",
    "    plt.title('Графики потерь')\n",
    "    plt.xlabel('Эпоха')\n",
    "    plt.ylabel('Loss')\n",
    "    plt.legend()\n",
    "    plt.tight_layout()\n",
    "\n",
    "except FileNotFoundError:\n",
    "    print(\"Файл с результатами не найден\")"
   ],
   "outputs": [
    {
     "name": "stdout",
     "output_type": "stream",
     "text": [
      "Ultralytics 8.3.134  Python-3.12.4 torch-2.6.0+cu126 CUDA:0 (NVIDIA GeForce RTX 4060 Laptop GPU, 8188MiB)\n",
      "\u001B[34m\u001B[1mengine\\trainer: \u001B[0magnostic_nms=False, amp=True, augment=False, auto_augment=randaugment, batch=16, bgr=0.0, box=7.5, cache=False, cfg=None, classes=None, close_mosaic=10, cls=0.5, conf=None, copy_paste=0.0, copy_paste_mode=flip, cos_lr=False, cutmix=0.0, data=C:/programming_HUB/MTUCI_projects/6_sem/neural_networks____university-homework/5_lab/dataset/dataset.yaml, degrees=0.0, deterministic=True, device=0, dfl=1.5, dnn=False, dropout=0.0, dynamic=False, embed=None, epochs=10, erasing=0.4, exist_ok=False, fliplr=0.5, flipud=0.0, format=torchscript, fraction=1.0, freeze=None, half=False, hsv_h=0.015, hsv_s=0.7, hsv_v=0.4, imgsz=640, int8=False, iou=0.7, keras=False, kobj=1.0, line_width=None, lr0=0.01, lrf=0.01, mask_ratio=4, max_det=300, mixup=0.0, mode=train, model=yolo11_I.pt, momentum=0.937, mosaic=1.0, multi_scale=False, name=train52, nbs=64, nms=False, opset=None, optimize=False, optimizer=AdamW, overlap_mask=True, patience=100, perspective=0.0, plots=True, pose=12.0, pretrained=True, profile=False, project=None, rect=False, resume=False, retina_masks=False, save=True, save_conf=False, save_crop=False, save_dir=C:\\programming_HUB\\MTUCI_projects\\6_sem\\neural_networks____university-homework\\runs\\detect\\train52, save_frames=False, save_json=False, save_period=-1, save_txt=False, scale=0.5, seed=42, shear=0.0, show=False, show_boxes=True, show_conf=True, show_labels=True, simplify=True, single_cls=False, source=None, split=val, stream_buffer=False, task=detect, time=None, tracker=botsort.yaml, translate=0.1, val=True, verbose=True, vid_stride=1, visualize=False, warmup_bias_lr=0.1, warmup_epochs=3.0, warmup_momentum=0.8, weight_decay=0.0005, workers=4, workspace=None\n",
      "\n",
      "                   from  n    params  module                                       arguments                     \n",
      "  0                  -1  1       464  ultralytics.nn.modules.conv.Conv             [3, 16, 3, 2]                 \n",
      "  1                  -1  1      4672  ultralytics.nn.modules.conv.Conv             [16, 32, 3, 2]                \n",
      "  2                  -1  1      6640  ultralytics.nn.modules.block.C3k2            [32, 64, 1, False, 0.25]      \n",
      "  3                  -1  1     36992  ultralytics.nn.modules.conv.Conv             [64, 64, 3, 2]                \n",
      "  4                  -1  1     26080  ultralytics.nn.modules.block.C3k2            [64, 128, 1, False, 0.25]     \n",
      "  5                  -1  1    147712  ultralytics.nn.modules.conv.Conv             [128, 128, 3, 2]              \n",
      "  6                  -1  1     87040  ultralytics.nn.modules.block.C3k2            [128, 128, 1, True]           \n",
      "  7                  -1  1    295424  ultralytics.nn.modules.conv.Conv             [128, 256, 3, 2]              \n",
      "  8                  -1  1    346112  ultralytics.nn.modules.block.C3k2            [256, 256, 1, True]           \n",
      "  9                  -1  1    164608  ultralytics.nn.modules.block.SPPF            [256, 256, 5]                 \n",
      " 10                  -1  1    249728  ultralytics.nn.modules.block.C2PSA           [256, 256, 1]                 \n",
      " 11                  -1  1         0  torch.nn.modules.upsampling.Upsample         [None, 2, 'nearest']          \n",
      " 12             [-1, 6]  1         0  ultralytics.nn.modules.conv.Concat           [1]                           \n",
      " 13                  -1  1    111296  ultralytics.nn.modules.block.C3k2            [384, 128, 1, False]          \n",
      " 14                  -1  1         0  torch.nn.modules.upsampling.Upsample         [None, 2, 'nearest']          \n",
      " 15             [-1, 4]  1         0  ultralytics.nn.modules.conv.Concat           [1]                           \n",
      " 16                  -1  1     32096  ultralytics.nn.modules.block.C3k2            [256, 64, 1, False]           \n",
      " 17                  -1  1     36992  ultralytics.nn.modules.conv.Conv             [64, 64, 3, 2]                \n",
      " 18            [-1, 13]  1         0  ultralytics.nn.modules.conv.Concat           [1]                           \n",
      " 19                  -1  1     86720  ultralytics.nn.modules.block.C3k2            [192, 128, 1, False]          \n",
      " 20                  -1  1    147712  ultralytics.nn.modules.conv.Conv             [128, 128, 3, 2]              \n",
      " 21            [-1, 10]  1         0  ultralytics.nn.modules.conv.Concat           [1]                           \n",
      " 22                  -1  1    378880  ultralytics.nn.modules.block.C3k2            [384, 256, 1, True]           \n",
      " 23        [16, 19, 22]  1    430867  ultralytics.nn.modules.head.Detect           [1, [64, 128, 256]]           \n",
      "YOLO11n summary: 181 layers, 2,590,035 parameters, 2,590,019 gradients, 6.4 GFLOPs\n",
      "\n",
      "Transferred 94/499 items from pretrained weights\n",
      "Freezing layer 'model.23.dfl.conv.weight'\n",
      "\u001B[34m\u001B[1mAMP: \u001B[0mrunning Automatic Mixed Precision (AMP) checks...\n",
      "Downloading https://github.com/ultralytics/assets/releases/download/v8.3.0/yolo11n.pt to 'yolo11n.pt'...\n",
      "WARNING \u001B[34m\u001B[1mAMP: \u001B[0mchecks skipped. Offline and unable to download YOLO11n for AMP checks. Setting 'amp=True'. If you experience zero-mAP or NaN losses you can disable AMP with amp=False.\n",
      "\u001B[34m\u001B[1mtrain: \u001B[0mFast image access  (ping: 0.10.0 ms, read: 791.8274.9 MB/s, size: 101.5 KB)\n"
     ]
    },
    {
     "name": "stderr",
     "output_type": "stream",
     "text": [
      "\u001B[34m\u001B[1mtrain: \u001B[0mScanning C:\\programming_HUB\\MTUCI_projects\\6_sem\\neural_networks____university-homework\\5_lab\\dataset\\labels\\train.cache... 355 images, 646 backgrounds, 0 corrupt: 100%|██████████| 1001/1001 [00:00<?, ?it/s]\n"
     ]
    },
    {
     "name": "stdout",
     "output_type": "stream",
     "text": [
      "\u001B[34m\u001B[1mval: \u001B[0mFast image access  (ping: 0.10.0 ms, read: 759.8183.9 MB/s, size: 87.5 KB)\n"
     ]
    },
    {
     "name": "stderr",
     "output_type": "stream",
     "text": [
      "\u001B[34m\u001B[1mval: \u001B[0mScanning C:\\programming_HUB\\MTUCI_projects\\6_sem\\neural_networks____university-homework\\5_lab\\dataset\\labels\\train.cache... 355 images, 646 backgrounds, 0 corrupt: 100%|██████████| 1001/1001 [00:00<?, ?it/s]\n"
     ]
    },
    {
     "name": "stdout",
     "output_type": "stream",
     "text": [
      "Plotting labels to C:\\programming_HUB\\MTUCI_projects\\6_sem\\neural_networks____university-homework\\runs\\detect\\train52\\labels.jpg... \n",
      "\u001B[34m\u001B[1moptimizer:\u001B[0m AdamW(lr=0.01, momentum=0.937) with parameter groups 81 weight(decay=0.0), 88 weight(decay=0.0005), 87 bias(decay=0.0)\n",
      "Image sizes 640 train, 640 val\n",
      "Using 4 dataloader workers\n",
      "Logging results to \u001B[1mC:\\programming_HUB\\MTUCI_projects\\6_sem\\neural_networks____university-homework\\runs\\detect\\train52\u001B[0m\n",
      "Starting training for 10 epochs...\n",
      "Closing dataloader mosaic\n",
      "\n",
      "      Epoch    GPU_mem   box_loss   cls_loss   dfl_loss  Instances       Size\n"
     ]
    },
    {
     "name": "stderr",
     "output_type": "stream",
     "text": [
      "       1/10      2.19G      1.405     0.9592      1.291          9        640: 100%|██████████| 63/63 [00:14<00:00,  4.31it/s]\n",
      "                 Class     Images  Instances      Box(P          R      mAP50  mAP50-95): 100%|██████████| 32/32 [00:05<00:00,  6.23it/s]"
     ]
    },
    {
     "name": "stdout",
     "output_type": "stream",
     "text": [
      "                   all       1001        559       0.87      0.901      0.923      0.531\n"
     ]
    },
    {
     "name": "stderr",
     "output_type": "stream",
     "text": [
      "\n"
     ]
    },
    {
     "name": "stdout",
     "output_type": "stream",
     "text": [
      "\n",
      "      Epoch    GPU_mem   box_loss   cls_loss   dfl_loss  Instances       Size\n"
     ]
    },
    {
     "name": "stderr",
     "output_type": "stream",
     "text": [
      "       2/10      2.21G      1.446     0.9071      1.314          4        640: 100%|██████████| 63/63 [00:12<00:00,  5.07it/s]\n",
      "                 Class     Images  Instances      Box(P          R      mAP50  mAP50-95): 100%|██████████| 32/32 [00:04<00:00,  6.88it/s]"
     ]
    },
    {
     "name": "stdout",
     "output_type": "stream",
     "text": [
      "                   all       1001        559      0.896      0.868      0.939      0.551\n"
     ]
    },
    {
     "name": "stderr",
     "output_type": "stream",
     "text": [
      "\n"
     ]
    },
    {
     "name": "stdout",
     "output_type": "stream",
     "text": [
      "\n",
      "      Epoch    GPU_mem   box_loss   cls_loss   dfl_loss  Instances       Size\n"
     ]
    },
    {
     "name": "stderr",
     "output_type": "stream",
     "text": [
      "       3/10      2.23G        1.5     0.9121      1.359          6        640: 100%|██████████| 63/63 [00:11<00:00,  5.37it/s]\n",
      "                 Class     Images  Instances      Box(P          R      mAP50  mAP50-95): 100%|██████████| 32/32 [00:04<00:00,  6.57it/s]\n"
     ]
    },
    {
     "name": "stdout",
     "output_type": "stream",
     "text": [
      "                   all       1001        559     0.0773      0.224     0.0334     0.0175\n",
      "\n",
      "      Epoch    GPU_mem   box_loss   cls_loss   dfl_loss  Instances       Size\n"
     ]
    },
    {
     "name": "stderr",
     "output_type": "stream",
     "text": [
      "       4/10      2.23G      1.416     0.8652      1.293          2        640: 100%|██████████| 63/63 [00:11<00:00,  5.32it/s]\n",
      "                 Class     Images  Instances      Box(P          R      mAP50  mAP50-95): 100%|██████████| 32/32 [00:04<00:00,  6.55it/s]"
     ]
    },
    {
     "name": "stdout",
     "output_type": "stream",
     "text": [
      "                   all       1001        559      0.875      0.841      0.933      0.558\n"
     ]
    },
    {
     "name": "stderr",
     "output_type": "stream",
     "text": [
      "\n"
     ]
    },
    {
     "name": "stdout",
     "output_type": "stream",
     "text": [
      "\n",
      "      Epoch    GPU_mem   box_loss   cls_loss   dfl_loss  Instances       Size\n"
     ]
    },
    {
     "name": "stderr",
     "output_type": "stream",
     "text": [
      "       5/10      2.23G      1.415     0.8477      1.269          8        640: 100%|██████████| 63/63 [00:11<00:00,  5.38it/s]\n",
      "                 Class     Images  Instances      Box(P          R      mAP50  mAP50-95): 100%|██████████| 32/32 [00:04<00:00,  6.63it/s]"
     ]
    },
    {
     "name": "stdout",
     "output_type": "stream",
     "text": [
      "                   all       1001        559      0.945      0.919      0.966      0.605\n"
     ]
    },
    {
     "name": "stderr",
     "output_type": "stream",
     "text": [
      "\n"
     ]
    },
    {
     "name": "stdout",
     "output_type": "stream",
     "text": [
      "\n",
      "      Epoch    GPU_mem   box_loss   cls_loss   dfl_loss  Instances       Size\n"
     ]
    },
    {
     "name": "stderr",
     "output_type": "stream",
     "text": [
      "       6/10      2.23G      1.352     0.8032       1.24          4        640: 100%|██████████| 63/63 [00:11<00:00,  5.31it/s]\n",
      "                 Class     Images  Instances      Box(P          R      mAP50  mAP50-95): 100%|██████████| 32/32 [00:04<00:00,  7.00it/s]"
     ]
    },
    {
     "name": "stdout",
     "output_type": "stream",
     "text": [
      "                   all       1001        559      0.961      0.914      0.978      0.619\n"
     ]
    },
    {
     "name": "stderr",
     "output_type": "stream",
     "text": [
      "\n"
     ]
    },
    {
     "name": "stdout",
     "output_type": "stream",
     "text": [
      "\n",
      "      Epoch    GPU_mem   box_loss   cls_loss   dfl_loss  Instances       Size\n"
     ]
    },
    {
     "name": "stderr",
     "output_type": "stream",
     "text": [
      "       7/10      2.27G      1.336     0.7803      1.248          5        640: 100%|██████████| 63/63 [00:11<00:00,  5.31it/s]\n",
      "                 Class     Images  Instances      Box(P          R      mAP50  mAP50-95): 100%|██████████| 32/32 [00:04<00:00,  6.56it/s]"
     ]
    },
    {
     "name": "stdout",
     "output_type": "stream",
     "text": [
      "                   all       1001        559      0.937      0.928       0.98      0.607\n"
     ]
    },
    {
     "name": "stderr",
     "output_type": "stream",
     "text": [
      "\n"
     ]
    },
    {
     "name": "stdout",
     "output_type": "stream",
     "text": [
      "\n",
      "      Epoch    GPU_mem   box_loss   cls_loss   dfl_loss  Instances       Size\n"
     ]
    },
    {
     "name": "stderr",
     "output_type": "stream",
     "text": [
      "       8/10      2.28G      1.313     0.7486      1.215          6        640: 100%|██████████| 63/63 [00:12<00:00,  5.19it/s]\n",
      "                 Class     Images  Instances      Box(P          R      mAP50  mAP50-95): 100%|██████████| 32/32 [00:04<00:00,  7.21it/s]"
     ]
    },
    {
     "name": "stdout",
     "output_type": "stream",
     "text": [
      "                   all       1001        559      0.954      0.934       0.98      0.633\n"
     ]
    },
    {
     "name": "stderr",
     "output_type": "stream",
     "text": [
      "\n"
     ]
    },
    {
     "name": "stdout",
     "output_type": "stream",
     "text": [
      "\n",
      "      Epoch    GPU_mem   box_loss   cls_loss   dfl_loss  Instances       Size\n"
     ]
    },
    {
     "name": "stderr",
     "output_type": "stream",
     "text": [
      "       9/10      2.28G      1.297     0.7234      1.213          4        640: 100%|██████████| 63/63 [00:12<00:00,  5.16it/s]\n",
      "                 Class     Images  Instances      Box(P          R      mAP50  mAP50-95): 100%|██████████| 32/32 [00:04<00:00,  7.15it/s]"
     ]
    },
    {
     "name": "stdout",
     "output_type": "stream",
     "text": [
      "                   all       1001        559      0.961      0.948      0.988      0.647\n"
     ]
    },
    {
     "name": "stderr",
     "output_type": "stream",
     "text": [
      "\n"
     ]
    },
    {
     "name": "stdout",
     "output_type": "stream",
     "text": [
      "\n",
      "      Epoch    GPU_mem   box_loss   cls_loss   dfl_loss  Instances       Size\n"
     ]
    },
    {
     "name": "stderr",
     "output_type": "stream",
     "text": [
      "      10/10      2.29G      1.244      0.691      1.174          4        640: 100%|██████████| 63/63 [00:12<00:00,  5.23it/s]\n",
      "                 Class     Images  Instances      Box(P          R      mAP50  mAP50-95): 100%|██████████| 32/32 [00:04<00:00,  7.11it/s]"
     ]
    },
    {
     "name": "stdout",
     "output_type": "stream",
     "text": [
      "                   all       1001        559       0.96       0.95      0.986      0.649\n"
     ]
    },
    {
     "name": "stderr",
     "output_type": "stream",
     "text": [
      "\n"
     ]
    },
    {
     "name": "stdout",
     "output_type": "stream",
     "text": [
      "\n",
      "10 epochs completed in 0.051 hours.\n",
      "Optimizer stripped from C:\\programming_HUB\\MTUCI_projects\\6_sem\\neural_networks____university-homework\\runs\\detect\\train52\\weights\\last.pt, 5.4MB\n",
      "Optimizer stripped from C:\\programming_HUB\\MTUCI_projects\\6_sem\\neural_networks____university-homework\\runs\\detect\\train52\\weights\\best.pt, 5.4MB\n",
      "\n",
      "Validating C:\\programming_HUB\\MTUCI_projects\\6_sem\\neural_networks____university-homework\\runs\\detect\\train52\\weights\\best.pt...\n",
      "Ultralytics 8.3.134  Python-3.12.4 torch-2.6.0+cu126 CUDA:0 (NVIDIA GeForce RTX 4060 Laptop GPU, 8188MiB)\n",
      "YOLO11n summary (fused): 100 layers, 2,582,347 parameters, 0 gradients, 6.3 GFLOPs\n"
     ]
    },
    {
     "name": "stderr",
     "output_type": "stream",
     "text": [
      "                 Class     Images  Instances      Box(P          R      mAP50  mAP50-95): 100%|██████████| 32/32 [00:04<00:00,  7.14it/s]\n"
     ]
    },
    {
     "name": "stdout",
     "output_type": "stream",
     "text": [
      "                   all       1001        559      0.961       0.95      0.986      0.648\n",
      "Speed: 0.2ms preprocess, 1.2ms inference, 0.0ms loss, 1.2ms postprocess per image\n",
      "Results saved to \u001B[1mC:\\programming_HUB\\MTUCI_projects\\6_sem\\neural_networks____university-homework\\runs\\detect\\train52\u001B[0m\n",
      "Ultralytics 8.3.134  Python-3.12.4 torch-2.6.0+cu126 CUDA:0 (NVIDIA GeForce RTX 4060 Laptop GPU, 8188MiB)\n",
      "YOLO11n summary (fused): 100 layers, 2,582,347 parameters, 0 gradients, 6.3 GFLOPs\n",
      "\u001B[34m\u001B[1mval: \u001B[0mFast image access  (ping: 0.10.0 ms, read: 1111.6297.9 MB/s, size: 119.0 KB)\n"
     ]
    },
    {
     "name": "stderr",
     "output_type": "stream",
     "text": [
      "\u001B[34m\u001B[1mval: \u001B[0mScanning C:\\programming_HUB\\MTUCI_projects\\6_sem\\neural_networks____university-homework\\5_lab\\dataset\\labels\\train.cache... 355 images, 646 backgrounds, 0 corrupt: 100%|██████████| 1001/1001 [00:00<?, ?it/s]\n",
      "                 Class     Images  Instances      Box(P          R      mAP50  mAP50-95): 100%|██████████| 63/63 [00:05<00:00, 10.68it/s]\n"
     ]
    },
    {
     "name": "stdout",
     "output_type": "stream",
     "text": [
      "                   all       1001        559       0.96       0.95      0.985      0.647\n",
      "Speed: 0.3ms preprocess, 2.6ms inference, 0.0ms loss, 1.1ms postprocess per image\n",
      "Results saved to \u001B[1mC:\\programming_HUB\\MTUCI_projects\\6_sem\\neural_networks____university-homework\\runs\\detect\\train522\u001B[0m\n"
     ]
    },
    {
     "data": {
      "text/plain": [
       "<Figure size 1200x400 with 2 Axes>"
      ],
      "image/png": "[encoded data removed]"
     },
     "metadata": {},
     "output_type": "display_data"
    }
   ],
   "execution_count": 5
  },
  {
   "metadata": {
    "ExecuteTime": {
     "end_time": "2025-05-20T10:41:53.561387Z",
     "start_time": "2025-05-20T10:41:53.557252Z"
    }
   },
   "cell_type": "code",
   "source": [
    "print(f\"map: {metrics.box.map}\")\n",
    "plt.show()"
   ],
   "id": "f790f8d91c1dc78e",
   "outputs": [
    {
     "name": "stdout",
     "output_type": "stream",
     "text": [
      "map: 0.6474443376299227\n"
     ]
    }
   ],
   "execution_count": 6
  },
  {
   "metadata": {
    "ExecuteTime": {
     "end_time": "2025-05-20T10:41:53.881731Z",
     "start_time": "2025-05-20T10:41:53.571399Z"
    }
   },
   "cell_type": "code",
   "source": [
    "torch.cuda.empty_cache()\n",
    "del model\n",
    "import gc\n",
    "gc.collect()"
   ],
   "id": "9c15d4b59c807631",
   "outputs": [
    {
     "data": {
      "text/plain": [
       "52676"
      ]
     },
     "execution_count": 7,
     "metadata": {},
     "output_type": "execute_result"
    }
   ],
   "execution_count": 7
  },
  {
   "cell_type": "markdown",
   "id": "6b119dba",
   "metadata": {},
   "source": [
    "#### 2.5 Вторая итерация\n",
    "\n",
    "Проведите процедуры для достижения высоких показателей (корректировка данных/гиперпараметров), сделайте вывод\n"
   ]
  },
  {
   "cell_type": "code",
   "id": "cb58b167",
   "metadata": {
    "ExecuteTime": {
     "end_time": "2025-05-20T10:45:56.781332Z",
     "start_time": "2025-05-20T10:41:53.925928Z"
    }
   },
   "source": [
    "%matplotlib inline\n",
    "model = YOLO(\"yolo11_I.pt\", verbose=False).to(device)\n",
    "\n",
    "params_v2 = {\n",
    "    'data': data_path,\n",
    "    'epochs': global_epochs,\n",
    "    'imgsz': 640,\n",
    "    'batch': 16,\n",
    "    'device': device,\n",
    "    'workers': 4,\n",
    "    'optimizer': 'AdamW',\n",
    "    'seed': 42,\n",
    "\n",
    "    'lr0': 0.001, # скорость обучения\n",
    "    'lrf': 0.01, # финальная скорость обучения\n",
    "    'weight_decay': 0.0005, # регуляризация. Заставляет оптимизатор уменьшат веса, чтобы уменьшить переобучение\n",
    "}\n",
    "\n",
    "# Повторное обучение модели с новыми параметрами\n",
    "print(\"\\nНачинаем вторую итерацию обучения с улучшенными параметрами\")\n",
    "results_v2 = model.train(**params_v2)\n",
    "\n",
    "# Оценка новой модели\n",
    "print(\"\\nОценка улучшенной модели.\")\n",
    "metrics_v2 = model.val()\n",
    "\n",
    "# Сохранение улучшенной модели\n",
    "model.save('yolo11_II.pt')\n"
   ],
   "outputs": [
    {
     "name": "stdout",
     "output_type": "stream",
     "text": [
      "\n",
      "Начинаем вторую итерацию обучения с улучшенными параметрами\n",
      "Ultralytics 8.3.134  Python-3.12.4 torch-2.6.0+cu126 CUDA:0 (NVIDIA GeForce RTX 4060 Laptop GPU, 8188MiB)\n",
      "\u001B[34m\u001B[1mengine\\trainer: \u001B[0magnostic_nms=False, amp=True, augment=False, auto_augment=randaugment, batch=16, bgr=0.0, box=7.5, cache=False, cfg=None, classes=None, close_mosaic=10, cls=0.5, conf=None, copy_paste=0.0, copy_paste_mode=flip, cos_lr=False, cutmix=0.0, data=C:/programming_HUB/MTUCI_projects/6_sem/neural_networks____university-homework/5_lab/dataset/dataset.yaml, degrees=0.0, deterministic=True, device=0, dfl=1.5, dnn=False, dropout=0.0, dynamic=False, embed=None, epochs=10, erasing=0.4, exist_ok=False, fliplr=0.5, flipud=0.0, format=torchscript, fraction=1.0, freeze=None, half=False, hsv_h=0.015, hsv_s=0.7, hsv_v=0.4, imgsz=640, int8=False, iou=0.7, keras=False, kobj=1.0, line_width=None, lr0=0.001, lrf=0.01, mask_ratio=4, max_det=300, mixup=0.0, mode=train, model=yolo11_I.pt, momentum=0.937, mosaic=1.0, multi_scale=False, name=train53, nbs=64, nms=False, opset=None, optimize=False, optimizer=AdamW, overlap_mask=True, patience=100, perspective=0.0, plots=True, pose=12.0, pretrained=True, profile=False, project=None, rect=False, resume=False, retina_masks=False, save=True, save_conf=False, save_crop=False, save_dir=C:\\programming_HUB\\MTUCI_projects\\6_sem\\neural_networks____university-homework\\runs\\detect\\train53, save_frames=False, save_json=False, save_period=-1, save_txt=False, scale=0.5, seed=42, shear=0.0, show=False, show_boxes=True, show_conf=True, show_labels=True, simplify=True, single_cls=False, source=None, split=val, stream_buffer=False, task=detect, time=None, tracker=botsort.yaml, translate=0.1, val=True, verbose=True, vid_stride=1, visualize=False, warmup_bias_lr=0.1, warmup_epochs=3.0, warmup_momentum=0.8, weight_decay=0.0005, workers=4, workspace=None\n",
      "\n",
      "                   from  n    params  module                                       arguments                     \n",
      "  0                  -1  1       464  ultralytics.nn.modules.conv.Conv             [3, 16, 3, 2]                 \n",
      "  1                  -1  1      4672  ultralytics.nn.modules.conv.Conv             [16, 32, 3, 2]                \n",
      "  2                  -1  1      6640  ultralytics.nn.modules.block.C3k2            [32, 64, 1, False, 0.25]      \n",
      "  3                  -1  1     36992  ultralytics.nn.modules.conv.Conv             [64, 64, 3, 2]                \n",
      "  4                  -1  1     26080  ultralytics.nn.modules.block.C3k2            [64, 128, 1, False, 0.25]     \n",
      "  5                  -1  1    147712  ultralytics.nn.modules.conv.Conv             [128, 128, 3, 2]              \n",
      "  6                  -1  1     87040  ultralytics.nn.modules.block.C3k2            [128, 128, 1, True]           \n",
      "  7                  -1  1    295424  ultralytics.nn.modules.conv.Conv             [128, 256, 3, 2]              \n",
      "  8                  -1  1    346112  ultralytics.nn.modules.block.C3k2            [256, 256, 1, True]           \n",
      "  9                  -1  1    164608  ultralytics.nn.modules.block.SPPF            [256, 256, 5]                 \n",
      " 10                  -1  1    249728  ultralytics.nn.modules.block.C2PSA           [256, 256, 1]                 \n",
      " 11                  -1  1         0  torch.nn.modules.upsampling.Upsample         [None, 2, 'nearest']          \n",
      " 12             [-1, 6]  1         0  ultralytics.nn.modules.conv.Concat           [1]                           \n",
      " 13                  -1  1    111296  ultralytics.nn.modules.block.C3k2            [384, 128, 1, False]          \n",
      " 14                  -1  1         0  torch.nn.modules.upsampling.Upsample         [None, 2, 'nearest']          \n",
      " 15             [-1, 4]  1         0  ultralytics.nn.modules.conv.Concat           [1]                           \n",
      " 16                  -1  1     32096  ultralytics.nn.modules.block.C3k2            [256, 64, 1, False]           \n",
      " 17                  -1  1     36992  ultralytics.nn.modules.conv.Conv             [64, 64, 3, 2]                \n",
      " 18            [-1, 13]  1         0  ultralytics.nn.modules.conv.Concat           [1]                           \n",
      " 19                  -1  1     86720  ultralytics.nn.modules.block.C3k2            [192, 128, 1, False]          \n",
      " 20                  -1  1    147712  ultralytics.nn.modules.conv.Conv             [128, 128, 3, 2]              \n",
      " 21            [-1, 10]  1         0  ultralytics.nn.modules.conv.Concat           [1]                           \n",
      " 22                  -1  1    378880  ultralytics.nn.modules.block.C3k2            [384, 256, 1, True]           \n",
      " 23        [16, 19, 22]  1    430867  ultralytics.nn.modules.head.Detect           [1, [64, 128, 256]]           \n",
      "YOLO11n summary: 181 layers, 2,590,035 parameters, 2,590,019 gradients, 6.4 GFLOPs\n",
      "\n",
      "Transferred 94/499 items from pretrained weights\n",
      "Freezing layer 'model.23.dfl.conv.weight'\n",
      "\u001B[34m\u001B[1mAMP: \u001B[0mrunning Automatic Mixed Precision (AMP) checks...\n",
      "Downloading https://github.com/ultralytics/assets/releases/download/v8.3.0/yolo11n.pt to 'yolo11n.pt'...\n",
      "WARNING \u001B[34m\u001B[1mAMP: \u001B[0mchecks skipped. Offline and unable to download YOLO11n for AMP checks. Setting 'amp=True'. If you experience zero-mAP or NaN losses you can disable AMP with amp=False.\n",
      "\u001B[34m\u001B[1mtrain: \u001B[0mFast image access  (ping: 0.10.0 ms, read: 959.7282.0 MB/s, size: 101.5 KB)\n"
     ]
    },
    {
     "name": "stderr",
     "output_type": "stream",
     "text": [
      "\u001B[34m\u001B[1mtrain: \u001B[0mScanning C:\\programming_HUB\\MTUCI_projects\\6_sem\\neural_networks____university-homework\\5_lab\\dataset\\labels\\train.cache... 355 images, 646 backgrounds, 0 corrupt: 100%|██████████| 1001/1001 [00:00<?, ?it/s]\n"
     ]
    },
    {
     "name": "stdout",
     "output_type": "stream",
     "text": [
      "\u001B[34m\u001B[1mval: \u001B[0mFast image access  (ping: 0.10.0 ms, read: 789.3233.9 MB/s, size: 87.5 KB)\n"
     ]
    },
    {
     "name": "stderr",
     "output_type": "stream",
     "text": [
      "\u001B[34m\u001B[1mval: \u001B[0mScanning C:\\programming_HUB\\MTUCI_projects\\6_sem\\neural_networks____university-homework\\5_lab\\dataset\\labels\\train.cache... 355 images, 646 backgrounds, 0 corrupt: 100%|██████████| 1001/1001 [00:00<?, ?it/s]\n"
     ]
    },
    {
     "name": "stdout",
     "output_type": "stream",
     "text": [
      "Plotting labels to C:\\programming_HUB\\MTUCI_projects\\6_sem\\neural_networks____university-homework\\runs\\detect\\train53\\labels.jpg... \n",
      "\u001B[34m\u001B[1moptimizer:\u001B[0m AdamW(lr=0.001, momentum=0.937) with parameter groups 81 weight(decay=0.0), 88 weight(decay=0.0005), 87 bias(decay=0.0)\n",
      "Image sizes 640 train, 640 val\n",
      "Using 4 dataloader workers\n",
      "Logging results to \u001B[1mC:\\programming_HUB\\MTUCI_projects\\6_sem\\neural_networks____university-homework\\runs\\detect\\train53\u001B[0m\n",
      "Starting training for 10 epochs...\n",
      "Closing dataloader mosaic\n",
      "\n",
      "      Epoch    GPU_mem   box_loss   cls_loss   dfl_loss  Instances       Size\n"
     ]
    },
    {
     "name": "stderr",
     "output_type": "stream",
     "text": [
      "       1/10      2.24G      1.291     0.8072       1.21          9        640: 100%|██████████| 63/63 [00:13<00:00,  4.66it/s]\n",
      "                 Class     Images  Instances      Box(P          R      mAP50  mAP50-95): 100%|██████████| 32/32 [00:04<00:00,  7.12it/s]"
     ]
    },
    {
     "name": "stdout",
     "output_type": "stream",
     "text": [
      "                   all       1001        559      0.965      0.949      0.985      0.652\n"
     ]
    },
    {
     "name": "stderr",
     "output_type": "stream",
     "text": [
      "\n"
     ]
    },
    {
     "name": "stdout",
     "output_type": "stream",
     "text": [
      "\n",
      "      Epoch    GPU_mem   box_loss   cls_loss   dfl_loss  Instances       Size\n"
     ]
    },
    {
     "name": "stderr",
     "output_type": "stream",
     "text": [
      "       2/10      2.24G      1.209      0.664      1.153          4        640: 100%|██████████| 63/63 [00:13<00:00,  4.78it/s]\n",
      "                 Class     Images  Instances      Box(P          R      mAP50  mAP50-95): 100%|██████████| 32/32 [00:04<00:00,  7.30it/s]"
     ]
    },
    {
     "name": "stdout",
     "output_type": "stream",
     "text": [
      "                   all       1001        559      0.962      0.955      0.989      0.625\n"
     ]
    },
    {
     "name": "stderr",
     "output_type": "stream",
     "text": [
      "\n"
     ]
    },
    {
     "name": "stdout",
     "output_type": "stream",
     "text": [
      "\n",
      "      Epoch    GPU_mem   box_loss   cls_loss   dfl_loss  Instances       Size\n"
     ]
    },
    {
     "name": "stderr",
     "output_type": "stream",
     "text": [
      "       3/10      2.26G      1.268     0.6713      1.191          6        640: 100%|██████████| 63/63 [00:12<00:00,  5.25it/s]\n",
      "                 Class     Images  Instances      Box(P          R      mAP50  mAP50-95): 100%|██████████| 32/32 [00:04<00:00,  7.25it/s]"
     ]
    },
    {
     "name": "stdout",
     "output_type": "stream",
     "text": [
      "                   all       1001        559      0.962      0.946      0.989      0.651\n"
     ]
    },
    {
     "name": "stderr",
     "output_type": "stream",
     "text": [
      "\n"
     ]
    },
    {
     "name": "stdout",
     "output_type": "stream",
     "text": [
      "\n",
      "      Epoch    GPU_mem   box_loss   cls_loss   dfl_loss  Instances       Size\n"
     ]
    },
    {
     "name": "stderr",
     "output_type": "stream",
     "text": [
      "       4/10      2.27G      1.212     0.6535      1.149          2        640: 100%|██████████| 63/63 [00:12<00:00,  5.05it/s]\n",
      "                 Class     Images  Instances      Box(P          R      mAP50  mAP50-95): 100%|██████████| 32/32 [00:04<00:00,  6.51it/s]"
     ]
    },
    {
     "name": "stdout",
     "output_type": "stream",
     "text": [
      "                   all       1001        559      0.962      0.961       0.99      0.659\n"
     ]
    },
    {
     "name": "stderr",
     "output_type": "stream",
     "text": [
      "\n"
     ]
    },
    {
     "name": "stdout",
     "output_type": "stream",
     "text": [
      "\n",
      "      Epoch    GPU_mem   box_loss   cls_loss   dfl_loss  Instances       Size\n"
     ]
    },
    {
     "name": "stderr",
     "output_type": "stream",
     "text": [
      "       5/10      2.27G      1.203     0.6394      1.132          8        640: 100%|██████████| 63/63 [00:12<00:00,  5.10it/s]\n",
      "                 Class     Images  Instances      Box(P          R      mAP50  mAP50-95): 100%|██████████| 32/32 [00:04<00:00,  7.08it/s]"
     ]
    },
    {
     "name": "stdout",
     "output_type": "stream",
     "text": [
      "                   all       1001        559      0.962      0.955      0.989      0.654\n"
     ]
    },
    {
     "name": "stderr",
     "output_type": "stream",
     "text": [
      "\n"
     ]
    },
    {
     "name": "stdout",
     "output_type": "stream",
     "text": [
      "\n",
      "      Epoch    GPU_mem   box_loss   cls_loss   dfl_loss  Instances       Size\n"
     ]
    },
    {
     "name": "stderr",
     "output_type": "stream",
     "text": [
      "       6/10      2.27G      1.165     0.6166      1.122          4        640: 100%|██████████| 63/63 [00:12<00:00,  5.16it/s]\n",
      "                 Class     Images  Instances      Box(P          R      mAP50  mAP50-95): 100%|██████████| 32/32 [00:04<00:00,  6.98it/s]"
     ]
    },
    {
     "name": "stdout",
     "output_type": "stream",
     "text": [
      "                   all       1001        559      0.962       0.96      0.989      0.655\n"
     ]
    },
    {
     "name": "stderr",
     "output_type": "stream",
     "text": [
      "\n"
     ]
    },
    {
     "name": "stdout",
     "output_type": "stream",
     "text": [
      "\n",
      "      Epoch    GPU_mem   box_loss   cls_loss   dfl_loss  Instances       Size\n"
     ]
    },
    {
     "name": "stderr",
     "output_type": "stream",
     "text": [
      "       7/10      2.27G      1.152      0.602      1.133          5        640: 100%|██████████| 63/63 [00:13<00:00,  4.81it/s]\n",
      "                 Class     Images  Instances      Box(P          R      mAP50  mAP50-95): 100%|██████████| 32/32 [00:04<00:00,  6.41it/s]"
     ]
    },
    {
     "name": "stdout",
     "output_type": "stream",
     "text": [
      "                   all       1001        559      0.969       0.95      0.989      0.671\n"
     ]
    },
    {
     "name": "stderr",
     "output_type": "stream",
     "text": [
      "\n"
     ]
    },
    {
     "name": "stdout",
     "output_type": "stream",
     "text": [
      "\n",
      "      Epoch    GPU_mem   box_loss   cls_loss   dfl_loss  Instances       Size\n"
     ]
    },
    {
     "name": "stderr",
     "output_type": "stream",
     "text": [
      "       8/10      2.27G      1.162     0.5957      1.118          6        640: 100%|██████████| 63/63 [00:12<00:00,  4.92it/s]\n",
      "                 Class     Images  Instances      Box(P          R      mAP50  mAP50-95): 100%|██████████| 32/32 [00:04<00:00,  7.12it/s]"
     ]
    },
    {
     "name": "stdout",
     "output_type": "stream",
     "text": [
      "                   all       1001        559      0.969      0.953       0.99      0.662\n"
     ]
    },
    {
     "name": "stderr",
     "output_type": "stream",
     "text": [
      "\n"
     ]
    },
    {
     "name": "stdout",
     "output_type": "stream",
     "text": [
      "\n",
      "      Epoch    GPU_mem   box_loss   cls_loss   dfl_loss  Instances       Size\n"
     ]
    },
    {
     "name": "stderr",
     "output_type": "stream",
     "text": [
      "       9/10      2.27G      1.158     0.6032      1.128          4        640: 100%|██████████| 63/63 [00:12<00:00,  5.03it/s]\n",
      "                 Class     Images  Instances      Box(P          R      mAP50  mAP50-95): 100%|██████████| 32/32 [00:04<00:00,  7.27it/s]"
     ]
    },
    {
     "name": "stdout",
     "output_type": "stream",
     "text": [
      "                   all       1001        559      0.974      0.957       0.99      0.676\n"
     ]
    },
    {
     "name": "stderr",
     "output_type": "stream",
     "text": [
      "\n"
     ]
    },
    {
     "name": "stdout",
     "output_type": "stream",
     "text": [
      "\n",
      "      Epoch    GPU_mem   box_loss   cls_loss   dfl_loss  Instances       Size\n"
     ]
    },
    {
     "name": "stderr",
     "output_type": "stream",
     "text": [
      "      10/10      2.27G      1.186     0.5991      1.136          4        640: 100%|██████████| 63/63 [00:12<00:00,  5.19it/s]\n",
      "                 Class     Images  Instances      Box(P          R      mAP50  mAP50-95): 100%|██████████| 32/32 [00:04<00:00,  6.73it/s]"
     ]
    },
    {
     "name": "stdout",
     "output_type": "stream",
     "text": [
      "                   all       1001        559      0.975      0.955      0.991      0.672\n"
     ]
    },
    {
     "name": "stderr",
     "output_type": "stream",
     "text": [
      "\n"
     ]
    },
    {
     "name": "stdout",
     "output_type": "stream",
     "text": [
      "\n",
      "10 epochs completed in 0.052 hours.\n",
      "Optimizer stripped from C:\\programming_HUB\\MTUCI_projects\\6_sem\\neural_networks____university-homework\\runs\\detect\\train53\\weights\\last.pt, 5.4MB\n",
      "Optimizer stripped from C:\\programming_HUB\\MTUCI_projects\\6_sem\\neural_networks____university-homework\\runs\\detect\\train53\\weights\\best.pt, 5.4MB\n",
      "\n",
      "Validating C:\\programming_HUB\\MTUCI_projects\\6_sem\\neural_networks____university-homework\\runs\\detect\\train53\\weights\\best.pt...\n",
      "Ultralytics 8.3.134  Python-3.12.4 torch-2.6.0+cu126 CUDA:0 (NVIDIA GeForce RTX 4060 Laptop GPU, 8188MiB)\n",
      "YOLO11n summary (fused): 100 layers, 2,582,347 parameters, 0 gradients, 6.3 GFLOPs\n"
     ]
    },
    {
     "name": "stderr",
     "output_type": "stream",
     "text": [
      "                 Class     Images  Instances      Box(P          R      mAP50  mAP50-95): 100%|██████████| 32/32 [00:04<00:00,  7.40it/s]\n"
     ]
    },
    {
     "name": "stdout",
     "output_type": "stream",
     "text": [
      "                   all       1001        559      0.974      0.957       0.99      0.676\n",
      "Speed: 0.2ms preprocess, 1.2ms inference, 0.0ms loss, 1.0ms postprocess per image\n",
      "Results saved to \u001B[1mC:\\programming_HUB\\MTUCI_projects\\6_sem\\neural_networks____university-homework\\runs\\detect\\train53\u001B[0m\n",
      "\n",
      "Оценка улучшенной модели.\n",
      "Ultralytics 8.3.134  Python-3.12.4 torch-2.6.0+cu126 CUDA:0 (NVIDIA GeForce RTX 4060 Laptop GPU, 8188MiB)\n",
      "YOLO11n summary (fused): 100 layers, 2,582,347 parameters, 0 gradients, 6.3 GFLOPs\n",
      "\u001B[34m\u001B[1mval: \u001B[0mFast image access  (ping: 0.10.0 ms, read: 1159.1234.3 MB/s, size: 119.0 KB)\n"
     ]
    },
    {
     "name": "stderr",
     "output_type": "stream",
     "text": [
      "\u001B[34m\u001B[1mval: \u001B[0mScanning C:\\programming_HUB\\MTUCI_projects\\6_sem\\neural_networks____university-homework\\5_lab\\dataset\\labels\\train.cache... 355 images, 646 backgrounds, 0 corrupt: 100%|██████████| 1001/1001 [00:00<?, ?it/s]\n",
      "                 Class     Images  Instances      Box(P          R      mAP50  mAP50-95): 100%|██████████| 63/63 [00:05<00:00, 10.95it/s]\n"
     ]
    },
    {
     "name": "stdout",
     "output_type": "stream",
     "text": [
      "                   all       1001        559      0.974      0.957       0.99      0.677\n",
      "Speed: 0.3ms preprocess, 2.6ms inference, 0.0ms loss, 0.9ms postprocess per image\n",
      "Results saved to \u001B[1mC:\\programming_HUB\\MTUCI_projects\\6_sem\\neural_networks____university-homework\\runs\\detect\\train532\u001B[0m\n"
     ]
    }
   ],
   "execution_count": 8
  },
  {
   "metadata": {
    "ExecuteTime": {
     "end_time": "2025-05-20T10:45:57.454775Z",
     "start_time": "2025-05-20T10:45:56.927777Z"
    }
   },
   "cell_type": "code",
   "source": [
    "if 'metrics_v2' not in locals():\n",
    "    import torch\n",
    "    from ultralytics import YOLO\n",
    "    device = 'cuda:0' if torch.cuda.is_available() else 'cpu'\n",
    "    model = YOLO('yolo11_II.pt').to(device)\n",
    "    metrics_v2 = model.val()\n",
    "\n",
    "if 'metrics' not in locals():\n",
    "    import torch\n",
    "    from ultralytics import YOLO\n",
    "    device = 'cuda:0' if torch.cuda.is_available() else 'cpu'\n",
    "    model = YOLO('yolo11_I.pt').to(device)\n",
    "    metrics = model.val()\n",
    "\n",
    "\n",
    "def format_metric(metric):\n",
    "    \"\"\"Форматирует метрику, которая может быть numpy array или float\"\"\"\n",
    "    if hasattr(metric, '__len__'):\n",
    "        return f\"{metric[0]:.4f}\" if len(metric) > 0 else \"N/A\"\n",
    "    return f\"{metric:.4f}\"\n",
    "\n",
    "print(\"\\nМетрики после второй итерации:\")\n",
    "\n",
    "print(f\"Precision: {format_metric(metrics_v2.box.p)} (было {format_metric(metrics.box.p)}). Разница {(float(format_metric(metrics_v2.box.p))/float(format_metric(metrics.box.p)))*100-100:.2f}%\")\n",
    "\n",
    "print(f\"Recall: {format_metric(metrics_v2.box.r)} (было {format_metric(metrics.box.r)}). Разница {(float(format_metric(metrics_v2.box.r))/float(format_metric(metrics.box.r)))*100-100:.2f}%\")\n",
    "\n",
    "print(f\"mAP@0.5: {format_metric(metrics_v2.box.map50)} (было {format_metric(metrics.box.map50)}). Разница {(float(format_metric(metrics_v2.box.map50))/float(format_metric(metrics.box.map50)))*100-100:.2f}%\")\n",
    "\n",
    "print(f\"mAP@0.5:0.95: {format_metric(metrics_v2.box.map)} (было {format_metric(metrics.box.map)}). Разница {(float(format_metric(metrics_v2.box.map))/float(format_metric(metrics.box.map)))*100-100:.2f}%\")\n",
    "\n",
    "# Визуализация результатов второй итерации\n",
    "try:\n",
    "\n",
    "    # Загрузка истории обучения\n",
    "    results_csv_v2 = os.path.join(model.trainer.save_dir, 'results.csv')\n",
    "    history_v2 = pd.read_csv(results_csv_v2)\n",
    "\n",
    "    # Настройка графиков\n",
    "    plt.figure(figsize=(15, 10))\n",
    "\n",
    "    # График метрик\n",
    "    plt.subplot(2, 2, 1)\n",
    "    plt.plot(history_v2['epoch'], history_v2['metrics/precision(B)'], label='Precision', color='blue')\n",
    "    plt.plot(history_v2['epoch'], history_v2['metrics/recall(B)'], label='Recall', color='green')\n",
    "    plt.plot(history_v2['epoch'], history_v2['metrics/mAP50(B)'], label='mAP@0.5', color='red')\n",
    "    plt.title('Гетрики метрик второй итерации')\n",
    "    plt.xlabel('Epoch')\n",
    "    plt.ylabel('Value')\n",
    "    plt.legend()\n",
    "    plt.grid()\n",
    "\n",
    "    # График потерь\n",
    "    plt.subplot(2, 2, 2)\n",
    "    plt.plot(history_v2['epoch'], history_v2['train/box_loss'], label='Train Box Loss', color='blue')\n",
    "    plt.plot(history_v2['epoch'], history_v2['val/box_loss'], label='Val Box Loss', color='orange')\n",
    "    plt.title('График потерь второй итерации')\n",
    "    plt.xlabel('Epoch')\n",
    "    plt.ylabel('Loss')\n",
    "    plt.legend()\n",
    "    plt.grid()\n",
    "\n",
    "    # Сравнение mAP до и после\n",
    "    plt.subplot(2, 2, 3)\n",
    "    plt.bar(['Первая версия', 'Вторая версия'],\n",
    "            [metrics.box.map50, metrics_v2.box.map50],\n",
    "            color=['blue', 'green'])\n",
    "    plt.title('Сравнение mAP@0.5')\n",
    "    plt.ylabel('mAP@0.5')\n",
    "    plt.grid(axis='y')\n",
    "\n",
    "    # Сравнение Precision-Recall\n",
    "    plt.subplot(2, 2, 4)\n",
    "    plt.scatter(metrics.box.p, metrics.box.r, color='blue', s=100, label='First Iteration')\n",
    "    plt.scatter(metrics_v2.box.p, metrics_v2.box.r, color='green', s=100, label='Second Iteration')\n",
    "    plt.xlabel('Precision')\n",
    "    plt.ylabel('Recall')\n",
    "    plt.title('Сравнение Precision-Recall')\n",
    "    plt.legend()\n",
    "    plt.grid()\n",
    "    plt.xlim(left=0)\n",
    "    plt.xlim(right=1)\n",
    "    plt.ylim(bottom=0)\n",
    "    plt.ylim(top=1)\n",
    "\n",
    "    plt.tight_layout()\n",
    "    plt.show()\n",
    "\n",
    "except Exception as e:\n",
    "    print(f\"Ошибка при визуализации результатов второй итерации: {e}\")\n",
    "\n",
    "print(\"\\nУлучшенная модель сохранена как 'yolov11n_improved.pt'\")"
   ],
   "id": "b4886ea921d3dc17",
   "outputs": [
    {
     "name": "stdout",
     "output_type": "stream",
     "text": [
      "\n",
      "Метрики после второй итерации:\n",
      "Precision: 0.9745 (было 0.9599). Разница 1.52%\n",
      "Recall: 0.9569 (было 0.9499). Разница 0.74%\n",
      "mAP@0.5: 0.9897 (было 0.9855). Разница 0.43%\n",
      "mAP@0.5:0.95: 0.6772 (было 0.6474). Разница 4.60%\n"
     ]
    },
    {
     "data": {
      "text/plain": [
       "<Figure size 1500x1000 with 4 Axes>"
      ],
      "image/png": "[encoded data removed]"
     },
     "metadata": {},
     "output_type": "display_data"
    },
    {
     "name": "stdout",
     "output_type": "stream",
     "text": [
      "\n",
      "Улучшенная модель сохранена как 'yolov11n_improved.pt'\n"
     ]
    }
   ],
   "execution_count": 9
  }
 ],
 "metadata": {
  "kernelspec": {
   "display_name": "Python 3 (ipykernel)",
   "language": "python",
   "name": "python3"
  },
  "language_info": {
   "codemirror_mode": {
    "name": "ipython",
    "version": 3
   },
   "file_extension": ".py",
   "mimetype": "text/x-python",
   "name": "python",
   "nbconvert_exporter": "python",
   "pygments_lexer": "ipython3",
   "version": "3.11.4"
  }
 },
 "nbformat": 4,
 "nbformat_minor": 5
}
