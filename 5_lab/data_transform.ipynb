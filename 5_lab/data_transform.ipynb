{
 "cells": [
  {
   "cell_type": "code",
   "id": "initial_id",
   "metadata": {
    "collapsed": true
   },
   "source": [
    "import os\n",
    "import pandas as pd\n",
    "from PIL import Image\n",
    "\n",
    "# Пути к данным\n",
    "train_images_dir = \"dataset/images/train\"\n",
    "annotations_file = \"data/train_solution_bounding_boxes.csv\"\n",
    "output_labels_dir = \"dataset/labels/train\"\n",
    "\n",
    "# создание папки, чтение аннтоаций\n",
    "os.makedirs(output_labels_dir, exist_ok=True)\n",
    "annotations = pd.read_csv(annotations_file)\n",
    "\n",
    "# Обрабатываем каждое изображение\n",
    "for image_name in annotations['image'].unique():\n",
    "    # Фильтруем аннотации для текущего изображения\n",
    "    image_annotations = annotations[annotations['image'] == image_name]\n",
    "\n",
    "    image_path = os.path.join(train_images_dir, image_name)\n",
    "    with Image.open(image_path) as img:\n",
    "        img_width, img_height = img.size\n",
    "\n",
    "    # файл аннотации YOLO\n",
    "    label_file_path = os.path.join(output_labels_dir, f\"{os.path.splitext(image_name)[0]}.txt\")\n",
    "    with open(label_file_path, 'w') as f:\n",
    "        for _, row in image_annotations.iterrows():\n",
    "            # Конвертация координат из xmin, ymin, xmax, ymax\n",
    "            xmin, ymin, xmax, ymax = row['xmin'], row['ymin'], row['xmax'], row['ymax']\n",
    "            x_center = (xmin + xmax) / 2 / img_width\n",
    "            y_center = (ymin + ymax) / 2 / img_height\n",
    "            width = (xmax - xmin) / img_width\n",
    "            height = (ymax - ymin) / img_height\n",
    "            class_id = 0\n",
    "            # Записываем в файл\n",
    "            f.write(f\"{class_id} {x_center} {y_center} {width} {height}\\n\")\n"
   ],
   "outputs": [],
   "execution_count": null
  }
 ],
 "metadata": {
  "kernelspec": {
   "display_name": "Python 3",
   "language": "python",
   "name": "python3"
  },
  "language_info": {
   "codemirror_mode": {
    "name": "ipython",
    "version": 2
   },
   "file_extension": ".py",
   "mimetype": "text/x-python",
   "name": "python",
   "nbconvert_exporter": "python",
   "pygments_lexer": "ipython2",
   "version": "2.7.6"
  }
 },
 "nbformat": 4,
 "nbformat_minor": 5
}
