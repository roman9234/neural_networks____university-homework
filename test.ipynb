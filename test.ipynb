{
 "cells": [
  {
   "cell_type": "code",
   "id": "initial_id",
   "metadata": {
    "collapsed": true,
    "ExecuteTime": {
     "end_time": "2025-03-30T09:22:09.542688Z",
     "start_time": "2025-03-30T09:22:09.538155Z"
    }
   },
   "source": [
    "q = \"{'annotation': {'folder': ['VOC2007'], 'filename': ['002000.jpg'], 'source': {'database': ['The VOC2007 Database'], 'annotation': ['PASCAL VOC2007'], 'image': ['flickr'], 'flickrid': ['328525841']}, 'owner': {'flickrid': ['shaolinfuzzy'], 'name': ['Mark Mannino']}, 'size': {'width': ['500'], 'height': ['375'], 'depth': ['3']}, 'segmented': ['0'], 'object': [{'name': ['boat'], 'pose': ['Left'], 'truncated': ['0'], 'difficult': ['0'], 'bndbox': {'xmin': ['371'], 'ymin': ['215'], 'xmax': ['411'], 'ymax': ['267']}}, {'name': ['person'], 'pose': ['Left'], 'truncated': ['1'], 'difficult': ['0'], 'bndbox': {'xmin': ['33'], 'ymin': ['195'], 'xmax': ['131'], 'ymax': ['375']}}]}}\"\n",
    "\n",
    "s = q.replace(\"\\'\",\"\\\"\")\n",
    "\n",
    "print(s)"
   ],
   "outputs": [
    {
     "name": "stdout",
     "output_type": "stream",
     "text": [
      "{\"annotation\": {\"folder\": [\"VOC2007\"], \"filename\": [\"002000.jpg\"], \"source\": {\"database\": [\"The VOC2007 Database\"], \"annotation\": [\"PASCAL VOC2007\"], \"image\": [\"flickr\"], \"flickrid\": [\"328525841\"]}, \"owner\": {\"flickrid\": [\"shaolinfuzzy\"], \"name\": [\"Mark Mannino\"]}, \"size\": {\"width\": [\"500\"], \"height\": [\"375\"], \"depth\": [\"3\"]}, \"segmented\": [\"0\"], \"object\": [{\"name\": [\"boat\"], \"pose\": [\"Left\"], \"truncated\": [\"0\"], \"difficult\": [\"0\"], \"bndbox\": {\"xmin\": [\"371\"], \"ymin\": [\"215\"], \"xmax\": [\"411\"], \"ymax\": [\"267\"]}}, {\"name\": [\"person\"], \"pose\": [\"Left\"], \"truncated\": [\"1\"], \"difficult\": [\"0\"], \"bndbox\": {\"xmin\": [\"33\"], \"ymin\": [\"195\"], \"xmax\": [\"131\"], \"ymax\": [\"375\"]}}]}}\n"
     ]
    }
   ],
   "execution_count": 1
  }
 ],
 "metadata": {
  "kernelspec": {
   "display_name": "Python 3",
   "language": "python",
   "name": "python3"
  },
  "language_info": {
   "codemirror_mode": {
    "name": "ipython",
    "version": 2
   },
   "file_extension": ".py",
   "mimetype": "text/x-python",
   "name": "python",
   "nbconvert_exporter": "python",
   "pygments_lexer": "ipython2",
   "version": "2.7.6"
  }
 },
 "nbformat": 4,
 "nbformat_minor": 5
}
